{
 "cells": [
  {
   "cell_type": "markdown",
   "metadata": {},
   "source": [
    "<center> <h1> IIR </h1> </center>"
   ]
  },
  {
   "cell_type": "markdown",
   "metadata": {},
   "source": [
    "## En la salida de los filtros IIR la salida depende de las muestras pasadas de la entrada y las salidas pasadas.\n",
    "![21_1.PNG](21_1.PNG)\n",
    "![21_2.PNG](21_2.PNG)\n",
    "![21_3.PNG](21_3.PNG)"
   ]
  },
  {
   "cell_type": "markdown",
   "metadata": {},
   "source": [
    "## Ubicación de polos y zeros\n",
    "## Los filtros IIR tienen polos y zeros\n",
    "![21_4.PNG](21_4.PNG)\n",
    "![21_5.PNG](21_5.PNG)"
   ]
  },
  {
   "cell_type": "markdown",
   "metadata": {},
   "source": [
    "## Algunas consideraciones\n",
    "* La ubicación de los polos y zeros puede hacer que no siempre sean estables.\n",
    "* No tienen fase lineal.\n",
    "* La implementación se hace utilizando algoritmos recursivos:\n",
    "    * Sufren mas los efectos de cuantización.\n",
    "    * Necesitan mas cantidad en las palabras de los bits para no tener problemas de saturación y overflow.\n",
    "* Tienen analogía con los filtros analógicos. Los filtros analógicos estan muy estudiados con lo cual se pueden heredar los metodos utilizados en los mismos.\n",
    "\n",
    "![21_11.PNG](21_11.PNG)\n"
   ]
  },
  {
   "cell_type": "markdown",
   "metadata": {},
   "source": [
    "## Transformación bilineal\n",
    "![21_6.PNG](21_6.PNG)\n",
    "![21_7.PNG](21_7.PNG)\n",
    "![21_8.PNG](21_8.PNG)"
   ]
  },
  {
   "cell_type": "markdown",
   "metadata": {},
   "source": [
    "### Filtros IIR desde el mundo analógico\n",
    "![21_9.PNG](21_9.PNG)"
   ]
  },
  {
   "cell_type": "markdown",
   "metadata": {},
   "source": [
    "## Filtrado Bi-Direccional\n",
    "El filtro bidireccional es una manera de forzar a un filtro IIR para tener un fase lineal perrfecto, a expensas de tiempo de procesamiento. Como minimo el costo computacional es duplicado.\n",
    "![21_10.PNG](21_10.PNG)"
   ]
  },
  {
   "cell_type": "markdown",
   "metadata": {},
   "source": [
    "### Implementación fon Forma Directa I\n",
    "![21_13.PNG](21_13.PNG)"
   ]
  },
  {
   "cell_type": "markdown",
   "metadata": {},
   "source": [
    "* Se puede pensar como una sección de todos ceros (forward filter) seguido de una sección de todo polo.\n",
    "* No hay posibilidad de \"overflow interno\" en punto fijo si el resultado es válido.\n",
    "* Tiene el doble de los delays o FFs necesarios.\n",
    "* Como todas las formas directa es sensible a los errores introducidos por la cuantización de coeficientes.\n",
    "* Utilizado como base para implementaciones de 1er o 2do orden."
   ]
  },
  {
   "cell_type": "markdown",
   "metadata": {},
   "source": [
    "### Forma directa II o canónica\n",
    "![21_14.PNG](21_14.PNG)"
   ]
  },
  {
   "cell_type": "markdown",
   "metadata": {},
   "source": [
    "* Se puede pensar como una sección todo polo (IIR) seguida de una sección todo cero (FIR)\n",
    "* Existe poisibilidad de overlflow.\n",
    "* Es canónico tiene la minima cantidad de delays.\n",
    "* Como todas las formas directas es sensibles a los errores introducidos por el redondeo de los coeficientes.\n",
    "* Hay que acomodar mucho la sección del rango dinamico de los IIR."
   ]
  },
  {
   "cell_type": "markdown",
   "metadata": {},
   "source": [
    "### Formas traspuestas\n",
    "### Recordando Mason. Invertir el grafo y pasar de vertices a sumadores y viceversa.\n",
    "![21_15.PNG](21_15.PNG)"
   ]
  },
  {
   "cell_type": "markdown",
   "metadata": {},
   "source": [
    "### Aplicando Mason a la forma Directa I:\n",
    "![21_16.PNG](21_16.PNG)\n",
    "### Girando obtenemos Forma Traspuesta I:\n",
    "![21_17.PNG](21_17.PNG)\n"
   ]
  },
  {
   "cell_type": "markdown",
   "metadata": {},
   "source": [
    "###  Igual que con la forma directa II podemos obtener la forma traspuesta II\n",
    "![21_18.PNG](21_18.PNG)"
   ]
  },
  {
   "cell_type": "markdown",
   "metadata": {},
   "source": [
    "* Primero los ceros y despues los polos.\n",
    "* Posee robustez frente al overflow.\n",
    "* Es canónico."
   ]
  },
  {
   "cell_type": "markdown",
   "metadata": {},
   "source": [
    "### Formato en cascada\n",
    "![21_19.PNG](21_19.PNG)"
   ]
  },
  {
   "cell_type": "markdown",
   "metadata": {},
   "source": [
    "### Se hace como una cascada de filtro de forma Directa II\n",
    "![21_20.PNG](21_20.PNG)"
   ]
  },
  {
   "cell_type": "markdown",
   "metadata": {},
   "source": [
    "### Formato en paralelo\n",
    "![21_20.PNG](21_21.PNG)\n",
    "![21_20.PNG](21_22.PNG)"
   ]
  },
  {
   "cell_type": "markdown",
   "metadata": {},
   "source": [
    "* Permite independizar un grupo de polos y zeros de otros.\n",
    "* Al minimizar el orden de los subsistemas, se reduce la sensibilidad a la cuantización.\n",
    "* Cascada es preferido cuando todas las secciones actúan sobre la misma banda.\n",
    "* Paralelo es preferido cuando las secciones actuan en diferente bandas. Filtro Multibanda."
   ]
  },
  {
   "cell_type": "markdown",
   "metadata": {},
   "source": [
    "Los filtros IIR son mas sensibles a los efectos de cuantización de coeficiente y cuantización aritmetica.\n",
    "Al cuantizar hay que verificar que el filtro siga cumpliendo con las especificaciones.\n",
    "Analizar los efectos de la cuantización en forma general, es sumamente complejo. Hay resultados y principios generales que orientan el diseño.\n",
    "\n",
    "* Cuantización aritmetica:\n",
    "    * Ancho de palabra.\n",
    "    * Wrapping / saturación.\n",
    "    * Truncado / redondeo.\n",
    "    * Escalado en diferentes etapas.\n",
    "    * Estabilidad: Polos cercanos a la circunferencia unitaria.\n",
    "* Cuantización de coeficientes:\n",
    "    * Los polos y los ceros se desplazan de sus posiciones por efecto númerico. La respuesta en frecuencia varia.\n",
    "    * En conveniente analizar la sensibilidad a la cuantización de los coeficientes.\n",
    "    \n",
    " ![21_23.PNG](21_23.PNG)"
   ]
  },
  {
   "cell_type": "markdown",
   "metadata": {},
   "source": [
    "Los filtros IIR son mas rapidos que los filtros FIR.\n",
    "Los filtros IIR pueden diseñarse utilziado un mapeo desde filtros analógicos.\n",
    "Los filtros IIR son mas dificiles de implementar. \n",
    "* Problemas numericos de cuantización y aritmeticos.\n",
    "* DF1,DF2,T1,TII,SOS,Paralela\n",
    "Debido a la implementación recursiva con aritmetica de punto fijo pueden provocar oscilaciones.\n",
    "Distorsión de fase.\n",
    "\n",
    "### Recomendación personal. --> Usar filtros FIR siempre que el costo computacional y la aplicación lo permitan."
   ]
  }
 ],
 "metadata": {
  "kernelspec": {
   "display_name": "Python 3 (ipykernel)",
   "language": "python",
   "name": "python3"
  },
  "language_info": {
   "codemirror_mode": {
    "name": "ipython",
    "version": 3
   },
   "file_extension": ".py",
   "mimetype": "text/x-python",
   "name": "python",
   "nbconvert_exporter": "python",
   "pygments_lexer": "ipython3",
   "version": "3.9.12"
  }
 },
 "nbformat": 4,
 "nbformat_minor": 2
}

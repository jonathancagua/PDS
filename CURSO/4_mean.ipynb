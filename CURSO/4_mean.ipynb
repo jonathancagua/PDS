{
 "cells": [
  {
   "cell_type": "markdown",
   "id": "4f62bad7",
   "metadata": {},
   "source": [
    "# Ejercicio 4\n",
    "Se va usar un arreglo generado en matlab de una senal, por lo cual se debe importa mysginal<br>\n",
    "De la plot se hace uso de lo siguiente:\n",
    "- Se va generar la media.\n"
   ]
  },
  {
   "cell_type": "code",
   "execution_count": 1,
   "id": "ea11b89f",
   "metadata": {},
   "outputs": [
    {
     "name": "stdout",
     "output_type": "stream",
     "text": [
      "The signal's mean is :  0.0371118795884375\n"
     ]
    }
   ],
   "source": [
    "import numpy as np\n",
    "import mysignals as sigs\n",
    "\n",
    "signal_mean = np.mean(sigs.InputSignal_1kHz_15kHz)\n",
    "print(\"The signal's mean is : \",signal_mean)\n"
   ]
  },
  {
   "cell_type": "markdown",
   "id": "7cdab813",
   "metadata": {},
   "source": [
    "Ahora se va calcular la media con algoritmo sencillo"
   ]
  },
  {
   "cell_type": "code",
   "execution_count": 2,
   "id": "55ac0ff2",
   "metadata": {},
   "outputs": [
    {
     "name": "stdout",
     "output_type": "stream",
     "text": [
      "0.037111879588437494\n"
     ]
    }
   ],
   "source": [
    "_mean =0.0\n",
    "\n",
    "def calc_mean(sig_src_arr):\n",
    "    global _mean\n",
    "    for x in range(len(sig_src_arr)):\n",
    "        _mean += sig_src_arr[x]\n",
    "    _mean = _mean/len(sig_src_arr)\n",
    "    return _mean\n",
    "    \n",
    "print(calc_mean(sigs.InputSignal_1kHz_15kHz))"
   ]
  },
  {
   "cell_type": "code",
   "execution_count": null,
   "id": "30e86426",
   "metadata": {},
   "outputs": [],
   "source": []
  }
 ],
 "metadata": {
  "kernelspec": {
   "display_name": "Python 3",
   "language": "python",
   "name": "python3"
  },
  "language_info": {
   "codemirror_mode": {
    "name": "ipython",
    "version": 3
   },
   "file_extension": ".py",
   "mimetype": "text/x-python",
   "name": "python",
   "nbconvert_exporter": "python",
   "pygments_lexer": "ipython3",
   "version": "3.8.8"
  }
 },
 "nbformat": 4,
 "nbformat_minor": 5
}

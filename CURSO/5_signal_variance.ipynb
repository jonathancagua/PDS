{
 "cells": [
  {
   "cell_type": "markdown",
   "id": "4f62bad7",
   "metadata": {},
   "source": [
    "# Ejercicio 5\n",
    "Se va usar un arreglo generado en matlab de una senal, por lo cual se debe importa mysginal<br>\n",
    "De la plot se hace uso de lo siguiente:\n",
    "- Se va generar la variance.\n"
   ]
  },
  {
   "cell_type": "code",
   "execution_count": 3,
   "id": "ea11b89f",
   "metadata": {},
   "outputs": [
    {
     "name": "stdout",
     "output_type": "stream",
     "text": [
      "0.6182214651545005\n"
     ]
    }
   ],
   "source": [
    "import numpy as np\n",
    "import mysignals as sigs\n",
    "\n",
    "variance =np.var(sigs.InputSignal_1kHz_15kHz)\n",
    "print(variance)"
   ]
  },
  {
   "cell_type": "markdown",
   "id": "d9ca6e2d",
   "metadata": {},
   "source": [
    "Ahora se va calcular la variance con algoritmo sencillo"
   ]
  },
  {
   "cell_type": "code",
   "execution_count": 5,
   "id": "d4d755ac",
   "metadata": {},
   "outputs": [
    {
     "name": "stdout",
     "output_type": "stream",
     "text": [
      "0.6182214651544999\n"
     ]
    }
   ],
   "source": [
    "_mean =0.0\n",
    "_variance =0.0\n",
    "\n",
    "def calc_variance(sig_src_arr):\n",
    "    global _mean\n",
    "    global _variance\n",
    "    \n",
    "    for x in range(len(sig_src_arr)):\n",
    "        _mean += sig_src_arr[x]\n",
    "    _mean = _mean / len(sig_src_arr)\n",
    "\n",
    "    for x in range(len(sig_src_arr)):\n",
    "        _variance = _variance + (sig_src_arr[x]-_mean)**2\n",
    "    _variance = _variance /(len(sig_src_arr))\n",
    "    return _variance\n",
    "\n",
    "    \n",
    "print(calc_variance(sigs.InputSignal_1kHz_15kHz))"
   ]
  }
 ],
 "metadata": {
  "kernelspec": {
   "display_name": "Python 3",
   "language": "python",
   "name": "python3"
  },
  "language_info": {
   "codemirror_mode": {
    "name": "ipython",
    "version": 3
   },
   "file_extension": ".py",
   "mimetype": "text/x-python",
   "name": "python",
   "nbconvert_exporter": "python",
   "pygments_lexer": "ipython3",
   "version": "3.8.8"
  }
 },
 "nbformat": 4,
 "nbformat_minor": 5
}

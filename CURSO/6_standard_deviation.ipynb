{
 "cells": [
  {
   "cell_type": "markdown",
   "id": "4f62bad7",
   "metadata": {},
   "source": [
    "# Ejercicio 6\n",
    "Se va usar un arreglo generado en matlab de una senal, por lo cual se debe importa mysginal<br>\n",
    "De la plot se hace uso de lo siguiente:\n",
    "- Se va generar la desviacion estandar.\n"
   ]
  },
  {
   "cell_type": "code",
   "execution_count": 6,
   "id": "ea11b89f",
   "metadata": {},
   "outputs": [
    {
     "name": "stdout",
     "output_type": "stream",
     "text": [
      "0.7862706055516132\n"
     ]
    }
   ],
   "source": [
    "import numpy as np\n",
    "import mysignals as sigs\n",
    "\n",
    "\n",
    "standard_deviation = np.std(sigs.InputSignal_1kHz_15kHz)\n",
    "print(standard_deviation)"
   ]
  },
  {
   "cell_type": "markdown",
   "id": "c45bdaa7",
   "metadata": {},
   "source": [
    "Ahora se va calcular la desviacion con algoritmo sencillo"
   ]
  },
  {
   "cell_type": "code",
   "execution_count": 8,
   "id": "7224365b",
   "metadata": {},
   "outputs": [
    {
     "name": "stdout",
     "output_type": "stream",
     "text": [
      "0.7862706055516129\n"
     ]
    }
   ],
   "source": [
    "_mean =0.0\n",
    "_variance =0.0\n",
    "_std = 0.0\n",
    "\n",
    "def calc_standard_deviation(sig_src_arr):\n",
    "    global _mean\n",
    "    global _variance\n",
    "    global _std\n",
    "    \n",
    "    for x in range(len(sig_src_arr)):\n",
    "        _mean += sig_src_arr[x]\n",
    "    _mean = _mean / len(sig_src_arr)\n",
    "\n",
    "    for x in range(len(sig_src_arr)):\n",
    "        _variance = _variance + (sig_src_arr[x]-_mean)**2\n",
    "    _variance = _variance /(len(sig_src_arr))\n",
    "    _std = _variance**(.5)\n",
    "    return _std\n",
    "\n",
    "    \n",
    "print(calc_standard_deviation(sigs.InputSignal_1kHz_15kHz))"
   ]
  }
 ],
 "metadata": {
  "kernelspec": {
   "display_name": "Python 3",
   "language": "python",
   "name": "python3"
  },
  "language_info": {
   "codemirror_mode": {
    "name": "ipython",
    "version": 3
   },
   "file_extension": ".py",
   "mimetype": "text/x-python",
   "name": "python",
   "nbconvert_exporter": "python",
   "pygments_lexer": "ipython3",
   "version": "3.8.8"
  }
 },
 "nbformat": 4,
 "nbformat_minor": 5
}
